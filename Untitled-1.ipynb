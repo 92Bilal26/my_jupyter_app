{
 "cells": [
  {
   "cell_type": "code",
   "execution_count": 2,
   "metadata": {},
   "outputs": [
    {
     "name": "stdout",
     "output_type": "stream",
     "text": [
      "bilal\n"
     ]
    }
   ],
   "source": [
    "print(\"bilal\")"
   ]
  },
  {
   "cell_type": "code",
   "execution_count": 3,
   "metadata": {},
   "outputs": [
    {
     "name": "stdout",
     "output_type": "stream",
     "text": [
      "Bilal\n"
     ]
    }
   ],
   "source": [
    "name:str = \"Bilal\"\n",
    "name = 100\n",
    "print (name)\n",
    "  "
   ]
  },
  {
   "cell_type": "code",
   "execution_count": 5,
   "metadata": {},
   "outputs": [
    {
     "name": "stdout",
     "output_type": "stream",
     "text": [
      "Amanullah\n",
      "welcome\n"
     ]
    }
   ],
   "source": [
    "father_name:str = \"Amanullah\"\n",
    "print(father_name)\n",
    "\n",
    "print(\"welcome\")"
   ]
  },
  {
   "cell_type": "code",
   "execution_count": 2,
   "metadata": {},
   "outputs": [
    {
     "name": "stdout",
     "output_type": "stream",
     "text": [
      "capitalize\n",
      "casefold\n",
      "center\n",
      "count\n",
      "encode\n",
      "endswith\n",
      "expandtabs\n",
      "find\n",
      "format\n",
      "format_map\n",
      "index\n",
      "isalnum\n",
      "isalpha\n",
      "isascii\n",
      "isdecimal\n",
      "isdigit\n",
      "isidentifier\n",
      "islower\n",
      "isnumeric\n",
      "isprintable\n",
      "isspace\n",
      "istitle\n",
      "isupper\n",
      "join\n",
      "ljust\n",
      "lower\n",
      "lstrip\n",
      "maketrans\n",
      "partition\n",
      "removeprefix\n",
      "removesuffix\n",
      "replace\n",
      "rfind\n",
      "rindex\n",
      "rjust\n",
      "rpartition\n",
      "rsplit\n",
      "rstrip\n",
      "split\n",
      "splitlines\n",
      "startswith\n",
      "strip\n",
      "swapcase\n",
      "title\n",
      "translate\n",
      "upper\n",
      "zfill\n"
     ]
    }
   ],
   "source": [
    "# Get all string methods from the str class\n",
    "string_methods = dir(str)\n",
    "\n",
    "# Print the methods that don't start with '__' (special methods)\n",
    "for method in string_methods:\n",
    "    if not method.startswith('__'):\n",
    "        print(method)\n"
   ]
  },
  {
   "cell_type": "code",
   "execution_count": 4,
   "metadata": {},
   "outputs": [
    {
     "name": "stdout",
     "output_type": "stream",
     "text": [
      "capitalize: Bilal amanullah -> Capitalizes the first letter\n",
      "casefold: bilal amanullah -> Converts to lowercase for case-insensitive comparison\n",
      "center (30):        Bilal Amanullah         -> Centers the string in a field of 30 characters\n",
      "count ('a'): 3 -> Counts occurrences of 'a'\n",
      "encode: b'Bilal Amanullah' -> Encodes the string in bytes using UTF-8\n",
      "endswith ('h'): True -> Checks if the string ends with 'h'\n",
      "expandtabs (default): Bilal Amanullah -> Expands tabs (no effect here)\n",
      "find ('l'): 2 -> Finds the first occurrence of 'l'\n",
      "format (using itself): Bilal Amanullah -> Formats the string using format()\n",
      "index ('l'): 2 -> Finds the first index of 'l'\n",
      "isalnum: False -> Checks if all characters are alphanumeric\n",
      "isalpha: False -> Checks if all characters are alphabetic\n",
      "isascii: True -> Checks if all characters are ASCII\n",
      "isdecimal: False -> Checks if all characters are decimals (False for text)\n",
      "isdigit: False -> Checks if all characters are digits (False for text)\n",
      "isidentifier: False -> Checks if it's a valid Python identifier\n",
      "islower: False -> Checks if all characters are lowercase\n",
      "isnumeric: False -> Checks if all characters are numeric (False)\n",
      "isprintable: True -> Checks if all characters are printable\n",
      "isspace: False -> Checks if all characters are whitespace (False)\n",
      "istitle: True -> Checks if the string is title-cased\n",
      "isupper: False -> Checks if all characters are uppercase\n",
      "join with '-': B-i-l-a-l- -A-m-a-n-u-l-l-a-h -> Joins the string with '-' between each character\n",
      "ljust (30): Bilal Amanullah                -> Left justifies the string in a field of 30 characters\n",
      "lower: bilal amanullah -> Converts all characters to lowercase\n",
      "lstrip: Bilal Amanullah -> Removes leading whitespace\n",
      "maketrans (translate): Bilal amanullah -> Replaces 'A' with 'a'\n",
      "partition ('a'): ('Bil', 'a', 'l Amanullah') -> Splits the string at the first occurrence of 'a'\n",
      "removeprefix ('Bilal'):  Amanullah -> Removes 'Bilal' from the beginning\n",
      "removesuffix ('Amanullah'): Bilal  -> Removes 'Amanullah' from the end\n",
      "replace ('a', 'o'): Bilol Amonulloh -> Replaces 'a' with 'o'\n",
      "rfind ('l'): 12 -> Finds the last occurrence of 'l'\n",
      "rindex ('l'): 12 -> Finds the last index of 'l'\n",
      "rjust (30):                Bilal Amanullah -> Right justifies the string in a field of 30 characters\n",
      "rpartition ('a'): ('Bilal Amanull', 'a', 'h') -> Splits the string at the last occurrence of 'a'\n",
      "rsplit ('a'): ['Bil', 'l Am', 'null', 'h'] -> Splits the string from the right at 'a'\n",
      "rstrip: Bilal Amanullah -> Removes trailing whitespace\n",
      "split ('a'): ['Bil', 'l Am', 'null', 'h'] -> Splits the string at each occurrence of 'a'\n",
      "splitlines: ['Bilal Amanullah'] -> Splits the string at line breaks (none here)\n",
      "startswith ('B'): True -> Checks if the string starts with 'B'\n",
      "strip: Bilal Amanullah -> Removes leading and trailing whitespace\n",
      "swapcase: bILAL aMANULLAH -> Swaps case: upper to lower, lower to upper\n",
      "title: Bilal Amanullah -> Converts to title case (capitalizes each word)\n",
      "translate: Zilal Amanullah -> Replaces 'B' with 'Z'\n",
      "upper: BILAL AMANULLAH -> Converts all characters to uppercase\n",
      "zfill (30): 000000000000000Bilal Amanullah -> Pads the string with zeros to a total width of 30\n"
     ]
    }
   ],
   "source": [
    "string = \"Bilal Amanullah\"\n",
    "\n",
    "# Apply each method and print both the result and the function used in the same line\n",
    "print(\"capitalize:\", string.capitalize(), \"-> Capitalizes the first letter\")\n",
    "print(\"casefold:\", string.casefold(), \"-> Converts to lowercase for case-insensitive comparison\")\n",
    "print(\"center (30):\", string.center(30), \"-> Centers the string in a field of 30 characters\")\n",
    "print(\"count ('a'):\", string.count('a'), \"-> Counts occurrences of 'a'\")\n",
    "print(\"encode:\", string.encode(), \"-> Encodes the string in bytes using UTF-8\")\n",
    "print(\"endswith ('h'):\", string.endswith('h'), \"-> Checks if the string ends with 'h'\")\n",
    "print(\"expandtabs (default):\", string.expandtabs(), \"-> Expands tabs (no effect here)\")\n",
    "print(\"find ('l'):\", string.find('l'), \"-> Finds the first occurrence of 'l'\")\n",
    "print(\"format (using itself):\", \"{}\".format(string), \"-> Formats the string using format()\")\n",
    "print(\"index ('l'):\", string.index('l'), \"-> Finds the first index of 'l'\")\n",
    "print(\"isalnum:\", string.isalnum(), \"-> Checks if all characters are alphanumeric\")\n",
    "print(\"isalpha:\", string.isalpha(), \"-> Checks if all characters are alphabetic\")\n",
    "print(\"isascii:\", string.isascii(), \"-> Checks if all characters are ASCII\")\n",
    "print(\"isdecimal:\", string.isdecimal(), \"-> Checks if all characters are decimals (False for text)\")\n",
    "print(\"isdigit:\", string.isdigit(), \"-> Checks if all characters are digits (False for text)\")\n",
    "print(\"isidentifier:\", string.isidentifier(), \"-> Checks if it's a valid Python identifier\")\n",
    "print(\"islower:\", string.islower(), \"-> Checks if all characters are lowercase\")\n",
    "print(\"isnumeric:\", string.isnumeric(), \"-> Checks if all characters are numeric (False)\")\n",
    "print(\"isprintable:\", string.isprintable(), \"-> Checks if all characters are printable\")\n",
    "print(\"isspace:\", string.isspace(), \"-> Checks if all characters are whitespace (False)\")\n",
    "print(\"istitle:\", string.istitle(), \"-> Checks if the string is title-cased\")\n",
    "print(\"isupper:\", string.isupper(), \"-> Checks if all characters are uppercase\")\n",
    "print(\"join with '-':\", '-'.join(string), \"-> Joins the string with '-' between each character\")\n",
    "print(\"ljust (30):\", string.ljust(30), \"-> Left justifies the string in a field of 30 characters\")\n",
    "print(\"lower:\", string.lower(), \"-> Converts all characters to lowercase\")\n",
    "print(\"lstrip:\", string.lstrip(), \"-> Removes leading whitespace\")\n",
    "print(\"maketrans (translate):\", string.translate(str.maketrans('A', 'a')), \"-> Replaces 'A' with 'a'\")\n",
    "print(\"partition ('a'):\", string.partition('a'), \"-> Splits the string at the first occurrence of 'a'\")\n",
    "print(\"removeprefix ('Bilal'):\", string.removeprefix('Bilal'), \"-> Removes 'Bilal' from the beginning\")\n",
    "print(\"removesuffix ('Amanullah'):\", string.removesuffix('Amanullah'), \"-> Removes 'Amanullah' from the end\")\n",
    "print(\"replace ('a', 'o'):\", string.replace('a', 'o'), \"-> Replaces 'a' with 'o'\")\n",
    "print(\"rfind ('l'):\", string.rfind('l'), \"-> Finds the last occurrence of 'l'\")\n",
    "print(\"rindex ('l'):\", string.rindex('l'), \"-> Finds the last index of 'l'\")\n",
    "print(\"rjust (30):\", string.rjust(30), \"-> Right justifies the string in a field of 30 characters\")\n",
    "print(\"rpartition ('a'):\", string.rpartition('a'), \"-> Splits the string at the last occurrence of 'a'\")\n",
    "print(\"rsplit ('a'):\", string.rsplit('a'), \"-> Splits the string from the right at 'a'\")\n",
    "print(\"rstrip:\", string.rstrip(), \"-> Removes trailing whitespace\")\n",
    "print(\"split ('a'):\", string.split('a'), \"-> Splits the string at each occurrence of 'a'\")\n",
    "print(\"splitlines:\", string.splitlines(), \"-> Splits the string at line breaks (none here)\")\n",
    "print(\"startswith ('B'):\", string.startswith('B'), \"-> Checks if the string starts with 'B'\")\n",
    "print(\"strip:\", string.strip(), \"-> Removes leading and trailing whitespace\")\n",
    "print(\"swapcase:\", string.swapcase(), \"-> Swaps case: upper to lower, lower to upper\")\n",
    "print(\"title:\", string.title(), \"-> Converts to title case (capitalizes each word)\")\n",
    "print(\"translate:\", string.translate(str.maketrans('B', 'Z')), \"-> Replaces 'B' with 'Z'\")\n",
    "print(\"upper:\", string.upper(), \"-> Converts all characters to uppercase\")\n",
    "print(\"zfill (30):\", string.zfill(30), \"-> Pads the string with zeros to a total width of 30\")\n"
   ]
  },
  {
   "cell_type": "code",
   "execution_count": 6,
   "metadata": {},
   "outputs": [
    {
     "name": "stdout",
     "output_type": "stream",
     "text": [
      "100\n"
     ]
    }
   ],
   "source": [
    "name: str = \"Bilal\"\n",
    "name = \"100\"  # Keep it as a string\n",
    "print(name)\n"
   ]
  },
  {
   "cell_type": "code",
   "execution_count": 7,
   "metadata": {},
   "outputs": [
    {
     "name": "stdout",
     "output_type": "stream",
     "text": [
      "100\n"
     ]
    }
   ],
   "source": [
    "from typing import Union\n",
    "\n",
    "name: Union[str, int] = \"Bilal\"\n",
    "name = 100  # Now it's allowed to be an int\n",
    "print(name)\n"
   ]
  }
 ],
 "metadata": {
  "kernelspec": {
   "display_name": "Python 3 (ipykernel)",
   "language": "python",
   "name": "python3"
  },
  "language_info": {
   "codemirror_mode": {
    "name": "ipython",
    "version": 3
   },
   "file_extension": ".py",
   "mimetype": "text/x-python",
   "name": "python",
   "nbconvert_exporter": "python",
   "pygments_lexer": "ipython3",
   "version": "3.12.2"
  }
 },
 "nbformat": 4,
 "nbformat_minor": 2
}
